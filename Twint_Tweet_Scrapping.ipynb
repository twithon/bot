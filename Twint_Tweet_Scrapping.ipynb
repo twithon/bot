{
 "cells": [
  {
   "cell_type": "code",
   "execution_count": 85,
   "id": "8ba03823",
   "metadata": {},
   "outputs": [],
   "source": [
    "import nest_asyncio\n",
    "nest_asyncio.apply()"
   ]
  },
  {
   "cell_type": "code",
   "execution_count": 86,
   "id": "f3d9d65c",
   "metadata": {},
   "outputs": [],
   "source": [
    "import twint\n",
    "from datetime import datetime, date, timedelta"
   ]
  },
  {
   "cell_type": "code",
   "execution_count": 87,
   "id": "0b0be264",
   "metadata": {},
   "outputs": [],
   "source": [
    "# Set up TWINT config\n",
    "c = twint.Config()"
   ]
  },
  {
   "cell_type": "code",
   "execution_count": 88,
   "id": "c7b0e505",
   "metadata": {},
   "outputs": [
    {
     "name": "stdout",
     "output_type": "stream",
     "text": [
      "date and time = 2022-04-08 16:26:06\n"
     ]
    }
   ],
   "source": [
    "# Set up time substract 10 minutes early\n",
    "now = datetime.now() - timedelta(hours=0, minutes=10)\n",
    "\n",
    "dt_string = now.strftime(\"%Y-%m-%d %H:%M:%S\") \n",
    "print(\"date and time =\", dt_string)\n",
    "\n",
    "since = dt_string"
   ]
  },
  {
   "cell_type": "code",
   "execution_count": 89,
   "id": "5f54b0a9",
   "metadata": {},
   "outputs": [
    {
     "name": "stdout",
     "output_type": "stream",
     "text": [
      "1512363428840878081 2022-04-08 16:35:14 +0700 <muhrezzzz> semangat belajar biar celet wisuda. untung internet rumah lancar jadinya belajar nya enak, semua ini karena aku udah pake indihome #aktivitastanpabatas #internetnyaindonesia #silaturahmitanpabatas  https://t.co/9eH2kklFml\n",
      "1512363033280270337 2022-04-08 16:33:40 +0700 <syaws_> @Askrlfess tadinya Indihome, trus ganti ke firstmedia yang lebih murah. sebulan cuma 250rb'an\n",
      "1512362890183188485 2022-04-08 16:33:06 +0700 <chelochele> Indihome sinyalnya bapuk\n",
      "1512362251956948994 2022-04-08 16:30:33 +0700 <IndiHomeCare> @painiaa @IndiHome Hallo, Sobat. Mohon informasikan nomor Internet dan nomor ponsel aktifnya via DM agar dibantu pengecekan lebih lanjut atau klik link berikut  https://t.co/yuUDRsTpwI. Terima kasih -Maul\n",
      "1512362153692446720 2022-04-08 16:30:10 +0700 <desuti> @dhitmple @TelkomIndonesia @TelkomCare @IndiHomeCare Gausah kak, udah 2 hari indihome gabisa. Penanganannya juga lama bgt. Keganggu semuanya dari kerjaan, kuliah. Bad bgt\n",
      "1512362127105093634 2022-04-08 16:30:04 +0700 <mbas2709> Indihome sama Telkomsel kapan tobatnya ya, gini2 terus perasaan kualitas internetnya\n",
      "1512362004019040262 2022-04-08 16:29:34 +0700 <dianekaputtri> nyelesain kerjaan semakin cepat sekarang. karena ditemani wifi indihome yang internetnya super cepat #aktivitastanpabatas #internetnyaindonesia #silaturahmitanpabatas  https://t.co/yZaGeUBbnx\n",
      "1512361805544591370 2022-04-08 16:28:47 +0700 <dianekaputtri> nonton film black panther makin seru aja nih apalagi nunggu buka puasa. makin serunya karena lancar banget dan gaada buffering semenjak pake indihome #aktivitastanpabatas #internetnyaindonesia #silaturahmitanpabatas  https://t.co/n32IDJXaSL\n",
      "1512361645556654080 2022-04-08 16:28:09 +0700 <desuti> Udah 2 hari @IndiHome gabisa. Cust carenya juga gak bgt @IndiHomeCare . Udah dijadwalin teknisi jg gaada kabar. Parah sih\n",
      "1512361578095865860 2022-04-08 16:27:53 +0700 <dianekaputtri> streaming film moana sambil nunggu adzan magrib makin seru nih. karena gaada buffering lagi semenjak pake indihome #aktivitastanpabatas #internetnyaindonesia #silaturahmitanpabatas  https://t.co/GI2xc96Jpp\n"
     ]
    }
   ],
   "source": [
    "# Custom output format\n",
    "c.Search = \"Indihome\"\n",
    "c.Limit = 300\n",
    "c.Pandas = True\n",
    "c.Since = since\n",
    "twint.run.Search(c)"
   ]
  },
  {
   "cell_type": "code",
   "execution_count": 90,
   "id": "076caacc",
   "metadata": {},
   "outputs": [
    {
     "name": "stdout",
     "output_type": "stream",
     "text": [
      "10\n"
     ]
    }
   ],
   "source": [
    "def column_names():\n",
    "    return twint.output.panda.Tweets_df.columns\n",
    "def twint_to_pd(columns):\n",
    "    return twint.output.panda.Tweets_df[columns]\n",
    "\n",
    "column_names()\n",
    "tweet_df = twint_to_pd([\"date\", \"username\", \"tweet\"])\n",
    "tweet_df.head(10)\n",
    "\n",
    "print(len(tweet_df))"
   ]
  },
  {
   "cell_type": "code",
   "execution_count": 91,
   "id": "5b641979",
   "metadata": {},
   "outputs": [
    {
     "data": {
      "text/html": [
       "<div>\n",
       "<style scoped>\n",
       "    .dataframe tbody tr th:only-of-type {\n",
       "        vertical-align: middle;\n",
       "    }\n",
       "\n",
       "    .dataframe tbody tr th {\n",
       "        vertical-align: top;\n",
       "    }\n",
       "\n",
       "    .dataframe thead th {\n",
       "        text-align: right;\n",
       "    }\n",
       "</style>\n",
       "<table border=\"1\" class=\"dataframe\">\n",
       "  <thead>\n",
       "    <tr style=\"text-align: right;\">\n",
       "      <th></th>\n",
       "      <th>date</th>\n",
       "      <th>username</th>\n",
       "      <th>tweet</th>\n",
       "    </tr>\n",
       "  </thead>\n",
       "  <tbody>\n",
       "    <tr>\n",
       "      <th>0</th>\n",
       "      <td>2022-04-08 16:35:14</td>\n",
       "      <td>muhrezzzz</td>\n",
       "      <td>semangat belajar biar celet wisuda. untung int...</td>\n",
       "    </tr>\n",
       "    <tr>\n",
       "      <th>1</th>\n",
       "      <td>2022-04-08 16:33:40</td>\n",
       "      <td>syaws_</td>\n",
       "      <td>@Askrlfess tadinya Indihome, trus ganti ke fir...</td>\n",
       "    </tr>\n",
       "    <tr>\n",
       "      <th>2</th>\n",
       "      <td>2022-04-08 16:33:06</td>\n",
       "      <td>chelochele</td>\n",
       "      <td>Indihome sinyalnya bapuk</td>\n",
       "    </tr>\n",
       "    <tr>\n",
       "      <th>3</th>\n",
       "      <td>2022-04-08 16:30:33</td>\n",
       "      <td>IndiHomeCare</td>\n",
       "      <td>@painiaa @IndiHome Hallo, Sobat. Mohon informa...</td>\n",
       "    </tr>\n",
       "    <tr>\n",
       "      <th>4</th>\n",
       "      <td>2022-04-08 16:30:10</td>\n",
       "      <td>desuti</td>\n",
       "      <td>@dhitmple @TelkomIndonesia @TelkomCare @IndiHo...</td>\n",
       "    </tr>\n",
       "    <tr>\n",
       "      <th>5</th>\n",
       "      <td>2022-04-08 16:30:04</td>\n",
       "      <td>mbas2709</td>\n",
       "      <td>Indihome sama Telkomsel kapan tobatnya ya, gin...</td>\n",
       "    </tr>\n",
       "    <tr>\n",
       "      <th>6</th>\n",
       "      <td>2022-04-08 16:29:34</td>\n",
       "      <td>dianekaputtri</td>\n",
       "      <td>nyelesain kerjaan semakin cepat sekarang. kare...</td>\n",
       "    </tr>\n",
       "    <tr>\n",
       "      <th>7</th>\n",
       "      <td>2022-04-08 16:28:47</td>\n",
       "      <td>dianekaputtri</td>\n",
       "      <td>nonton film black panther makin seru aja nih a...</td>\n",
       "    </tr>\n",
       "    <tr>\n",
       "      <th>8</th>\n",
       "      <td>2022-04-08 16:28:09</td>\n",
       "      <td>desuti</td>\n",
       "      <td>Udah 2 hari @IndiHome gabisa. Cust carenya jug...</td>\n",
       "    </tr>\n",
       "    <tr>\n",
       "      <th>9</th>\n",
       "      <td>2022-04-08 16:27:53</td>\n",
       "      <td>dianekaputtri</td>\n",
       "      <td>streaming film moana sambil nunggu adzan magri...</td>\n",
       "    </tr>\n",
       "  </tbody>\n",
       "</table>\n",
       "</div>"
      ],
      "text/plain": [
       "                  date       username  \\\n",
       "0  2022-04-08 16:35:14      muhrezzzz   \n",
       "1  2022-04-08 16:33:40         syaws_   \n",
       "2  2022-04-08 16:33:06     chelochele   \n",
       "3  2022-04-08 16:30:33   IndiHomeCare   \n",
       "4  2022-04-08 16:30:10         desuti   \n",
       "5  2022-04-08 16:30:04       mbas2709   \n",
       "6  2022-04-08 16:29:34  dianekaputtri   \n",
       "7  2022-04-08 16:28:47  dianekaputtri   \n",
       "8  2022-04-08 16:28:09         desuti   \n",
       "9  2022-04-08 16:27:53  dianekaputtri   \n",
       "\n",
       "                                               tweet  \n",
       "0  semangat belajar biar celet wisuda. untung int...  \n",
       "1  @Askrlfess tadinya Indihome, trus ganti ke fir...  \n",
       "2                           Indihome sinyalnya bapuk  \n",
       "3  @painiaa @IndiHome Hallo, Sobat. Mohon informa...  \n",
       "4  @dhitmple @TelkomIndonesia @TelkomCare @IndiHo...  \n",
       "5  Indihome sama Telkomsel kapan tobatnya ya, gin...  \n",
       "6  nyelesain kerjaan semakin cepat sekarang. kare...  \n",
       "7  nonton film black panther makin seru aja nih a...  \n",
       "8  Udah 2 hari @IndiHome gabisa. Cust carenya jug...  \n",
       "9  streaming film moana sambil nunggu adzan magri...  "
      ]
     },
     "execution_count": 91,
     "metadata": {},
     "output_type": "execute_result"
    }
   ],
   "source": [
    "tweet_df.head(30)"
   ]
  },
  {
   "cell_type": "code",
   "execution_count": 93,
   "id": "47e83e71",
   "metadata": {},
   "outputs": [],
   "source": [
    "tweet_df.to_csv('tweets.csv')"
   ]
  }
 ],
 "metadata": {
  "kernelspec": {
   "display_name": "Python 3 (ipykernel)",
   "language": "python",
   "name": "python3"
  },
  "language_info": {
   "codemirror_mode": {
    "name": "ipython",
    "version": 3
   },
   "file_extension": ".py",
   "mimetype": "text/x-python",
   "name": "python",
   "nbconvert_exporter": "python",
   "pygments_lexer": "ipython3",
   "version": "3.9.7"
  }
 },
 "nbformat": 4,
 "nbformat_minor": 5
}
