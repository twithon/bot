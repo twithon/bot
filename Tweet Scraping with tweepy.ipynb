{
 "cells": [
  {
   "cell_type": "code",
   "execution_count": 1,
   "id": "737c100c",
   "metadata": {},
   "outputs": [],
   "source": [
    "# pip install tweepy\n",
    "# pip install pandas\n",
    "import tweepy\n",
    "from tweepy import OAuthHandler\n",
    "import pandas as pd\n",
    "import time"
   ]
  },
  {
   "cell_type": "code",
   "execution_count": 3,
   "id": "8c12d7e9",
   "metadata": {},
   "outputs": [],
   "source": [
    "consumer_key = \"Sb9w4QdQWtq1dgc4lkXOaOcOT\"\n",
    "consumer_secret = \"yTe6ZMXgHyFM2ym1ydUCIl4AQEdWZrshaGJYGR2AxsTYoXHtRw\"\n",
    "access_token = \"1510115070717870080-a9ziTCnCUdixvIB3jZfqQMujfZEUd7\"\n",
    "access_token_secret = \"VS4DRMTu8yNPAN4UmPCWxk3s3b7i7y7RW2INk2tRzhyrg\"\n",
    "auth = tweepy.OAuthHandler(consumer_key, consumer_secret)\n",
    "auth.set_access_token(access_token, access_token_secret)\n",
    "api = tweepy.API(auth, wait_on_rate_limit=True)"
   ]
  },
  {
   "cell_type": "code",
   "execution_count": 4,
   "id": "a00a1a09",
   "metadata": {},
   "outputs": [],
   "source": [
    "username = 'Indihome'\n",
    "count = 150"
   ]
  },
  {
   "cell_type": "code",
   "execution_count": 8,
   "id": "90a4ef88",
   "metadata": {},
   "outputs": [
    {
     "name": "stderr",
     "output_type": "stream",
     "text": [
      "Unexpected parameter: id\n"
     ]
    },
    {
     "name": "stdout",
     "output_type": "stream",
     "text": [
      "failed on_status, 403 Forbidden\n",
      "453 - You currently have Essential access which includes access to Twitter API v2 endpoints only. If you need access to this endpoint, you’ll need to apply for Elevated access via the Developer Portal. You can learn more here: https://developer.twitter.com/en/docs/twitter-api/getting-started/about-twitter-api#v2-access-leve\n"
     ]
    }
   ],
   "source": [
    "df_user_tweets = pd.DataFrame()\n",
    "try:     \n",
    "    # Creation of query method using appropriate parameters\n",
    "    tweets =    tweepy.Cursor(api.user_timeline,id=username).items(count)\n",
    " \n",
    "    \n",
    "    # Pulling information from tweets iterable object and adding relevant tweet information in our data frame\n",
    "    for tweet in tweets:\n",
    "        df_user_tweets = df_user_tweets.append(\n",
    "                          {'Created at' : tweet._json['created_at'],\n",
    "                                       'User ID': tweet._json['id'],\n",
    "                              'User Name': tweet.user._json['name'],\n",
    "                                        'Text': tweet._json['text'],\n",
    "                     'Description': tweet.user._json['description'],\n",
    "                           'Location': tweet.user._json['location'],\n",
    "             'Followers Count': tweet.user._json['followers_count'],\n",
    "                 'Friends Count': tweet.user._json['friends_count'],\n",
    "               'Statuses Count': tweet.user._json['statuses_count'],\n",
    "         'Profile Image Url': tweet.user._json['profile_image_url'],\n",
    "                         }, ignore_index=True)\n",
    "except BaseException as e:\n",
    "    print('failed on_status,',str(e))\n",
    "    time.sleep(3)"
   ]
  },
  {
   "cell_type": "code",
   "execution_count": 9,
   "id": "643578f8",
   "metadata": {},
   "outputs": [
    {
     "name": "stderr",
     "output_type": "stream",
     "text": [
      "Unexpected parameter: id\n"
     ]
    },
    {
     "name": "stdout",
     "output_type": "stream",
     "text": [
      "failed on_status, 403 Forbidden\n",
      "453 - You currently have Essential access which includes access to Twitter API v2 endpoints only. If you need access to this endpoint, you’ll need to apply for Elevated access via the Developer Portal. You can learn more here: https://developer.twitter.com/en/docs/twitter-api/getting-started/about-twitter-api#v2-access-leve\n"
     ]
    }
   ],
   "source": [
    "try:     \n",
    " # Creation of query method using parameters\n",
    " tweets = tweepy.Cursor(api.user_timeline,id=username).items(count)\n",
    " \n",
    " # Pulling information from tweets iterable object\n",
    " tweets_list = [[tweet.created_at, tweet.id, tweet.text] for tweet in tweets]\n",
    " \n",
    " # Creation of dataframe from tweets list\n",
    " # Add or remove columns as you remove tweet information\n",
    " tweets_df = pd.DataFrame(tweets_list)\n",
    "except BaseException as e:\n",
    "      print('failed on_status,',str(e))\n",
    "      time.sleep(3)"
   ]
  }
 ],
 "metadata": {
  "kernelspec": {
   "display_name": "Python 3 (ipykernel)",
   "language": "python",
   "name": "python3"
  },
  "language_info": {
   "codemirror_mode": {
    "name": "ipython",
    "version": 3
   },
   "file_extension": ".py",
   "mimetype": "text/x-python",
   "name": "python",
   "nbconvert_exporter": "python",
   "pygments_lexer": "ipython3",
   "version": "3.9.7"
  }
 },
 "nbformat": 4,
 "nbformat_minor": 5
}
